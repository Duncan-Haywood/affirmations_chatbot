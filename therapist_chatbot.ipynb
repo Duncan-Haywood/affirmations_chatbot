{
  "nbformat": 4,
  "nbformat_minor": 0,
  "metadata": {
    "colab": {
      "name": "therapist_chatbot.ipynb",
      "provenance": [],
      "collapsed_sections": [],
      "authorship_tag": "ABX9TyP6WevYXCikg5TnOKSXpm8S",
      "include_colab_link": true
    },
    "kernelspec": {
      "name": "python3",
      "display_name": "Python 3"
    }
  },
  "cells": [
    {
      "cell_type": "markdown",
      "metadata": {
        "id": "view-in-github",
        "colab_type": "text"
      },
      "source": [
        "<a href=\"https://colab.research.google.com/github/Duncan-Haywood/questionschatbot/blob/master/therapist_chatbot.ipynb\" target=\"_parent\"><img src=\"https://colab.research.google.com/assets/colab-badge.svg\" alt=\"Open In Colab\"/></a>"
      ]
    },
    {
      "cell_type": "code",
      "metadata": {
        "id": "mSuBB-uFiVnV",
        "colab_type": "code",
        "colab": {
          "base_uri": "https://localhost:8080/",
          "height": 130
        },
        "outputId": "e0970f86-cd5b-4e45-8fcf-0d6f87f83308"
      },
      "source": [
        "# Module imports\n",
        "import random\n",
        "import json\n",
        "\n",
        "## User inputs integer to select the main list they wish to use. \n",
        "## Returns the file name of the selected list\n",
        "def get_main_question_list_name():\n",
        "  \n",
        "  question_list = [\n",
        "                 'journal_questions.json',\n",
        "                 'virtue_questions.json',\n",
        "                 'life_coach_questions.json',\n",
        "                 'holistic_questions.json',\n",
        "                 'postive_psych_questions.json',\n",
        "                 'CBT_questions.json'\n",
        "                 ]\n",
        "  question_index = input(\\\n",
        "    \"Please input the leading number to choose the type of \\\n",
        "    conversation you would like to have:\\n\\\n",
        "    (1) Duncan's Journalling-like prompts\\n\\\n",
        "    (2) Questions exploring how you exhibit virtues\\n\\\n",
        "    (3) Life coach like questions\\n\\\n",
        "    (4) Holistic Pyschology like questions\\n\\\n",
        "    (5) Positive Psychology like questions\\n\\\n",
        "    (6) Cognitive Behavioral Therapy (CBT) based Questions\")\n",
        "  question_list_name = question_list[int(question_index) - 1]\n",
        "\n",
        "  return question_list_name\n",
        "\n",
        "\n",
        "## Will run alternative scenarios/commands on a user input\n",
        "## different\n",
        "def input_with_checks(question):\n",
        "  answer = input(question)\n",
        "  if answer == \"different list\":\n",
        "    questions = choose_question_list()\n",
        "  elif answer == 'stop':\n",
        "    pass\n",
        "  return answer\n",
        "\n",
        "## prompts a question and  \n",
        "## saves (appends) the question and the answer to the answers file\n",
        "def add_answer(question):\n",
        "\tanswer = input_with_checks(question)\n",
        "\twith open('answers.json', 'a') as answers:\n",
        "    json.dump(answers, [question, answer])\n",
        "  return answer\n",
        "\n",
        "## \n",
        "def run_followup_q(question):\n",
        "  followup_question = input(\"What follow up question or response \\\n",
        "                            to yourself will serve you best?\")\n",
        "  answer = add_answer(followup_question)\n",
        "  q_followup = (question, followup_question, answer)\n",
        "  with open(followup_questions.json, 'a') as followup_questions:\n",
        "    json.dump(q_followup, followup_questions)\n",
        "  \n",
        "##\n",
        "def new_question(questions):\n",
        "  # new_question = input(\"Is there a question you would like to \\\n",
        "  #                       be asked when you converse here?\")\n",
        "  # with open(questions)\n",
        "  \n",
        "  # quesitons.append(new_question)\n",
        "  # add_answer(new_question)\n",
        "\n",
        "##\n",
        "def run_main_question():\n",
        "  # i = random.randint(0, len(questions))\n",
        "\n",
        "  # question = questions[i]\n",
        "  #     add_answer(question)\n",
        "\n",
        "## Introduce the program to the user\n",
        "def intro():\n",
        "  print(\"If there are any questions you would not like to answer, \\\n",
        "        please write \\\"pass\\\" and it will move to the next question. \\ \n",
        "        If you would like to choose a different question list, \\\n",
        "        please type \\\"different list\\\"\")\n",
        "\n",
        "\n",
        "# runs the file, giving instructions, deciding which list to choose, \n",
        "# asking question, retrieving followup question, asking follow up question, \n",
        "# and storing these together\n",
        "def run():\n",
        "  intro()\n",
        "  question_list_name = get_main_question_list_name()\n",
        "  while True:\n",
        "    for x in range(3):\n",
        "      question = run_main_question()\n",
        "      run_followup_q(question)\n",
        "    run_new_question(question_list_name)\n",
        "\n",
        "\n",
        "\n",
        "\n",
        "run()"
      ],
      "execution_count": 17,
      "outputs": [
        {
          "output_type": "error",
          "ename": "IndentationError",
          "evalue": "ignored",
          "traceback": [
            "\u001b[0;36m  File \u001b[0;32m\"<ipython-input-17-e8d0c5386e65>\"\u001b[0;36m, line \u001b[0;32m37\u001b[0m\n\u001b[0;31m    json.dump(answers, [question, answer])\u001b[0m\n\u001b[0m                                          ^\u001b[0m\n\u001b[0;31mIndentationError\u001b[0m\u001b[0;31m:\u001b[0m unindent does not match any outer indentation level\n"
          ]
        }
      ]
    },
    {
      "cell_type": "code",
      "metadata": {
        "id": "tKUl4m_yZyhe",
        "colab_type": "code",
        "colab": {}
      },
      "source": [
        ""
      ],
      "execution_count": 0,
      "outputs": []
    }
  ]
}