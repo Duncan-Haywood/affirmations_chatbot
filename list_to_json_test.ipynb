{
  "nbformat": 4,
  "nbformat_minor": 0,
  "metadata": {
    "colab": {
      "name": "list_to_json_test.ipynb",
      "provenance": [],
      "collapsed_sections": [],
      "authorship_tag": "ABX9TyOMA1qA9BemzoDgH/I9NHPs",
      "include_colab_link": true
    },
    "kernelspec": {
      "name": "python3",
      "display_name": "Python 3"
    }
  },
  "cells": [
    {
      "cell_type": "markdown",
      "metadata": {
        "id": "view-in-github",
        "colab_type": "text"
      },
      "source": [
        "<a href=\"https://colab.research.google.com/github/Duncan-Haywood/therapy_chatbot/blob/master/list_to_json_test.ipynb\" target=\"_parent\"><img src=\"https://colab.research.google.com/assets/colab-badge.svg\" alt=\"Open In Colab\"/></a>"
      ]
    },
    {
      "cell_type": "code",
      "metadata": {
        "id": "lsXJaGgNhqkD",
        "colab_type": "code",
        "colab": {
          "base_uri": "https://localhost:8080/",
          "height": 54
        },
        "outputId": "f037c92c-f31c-4a82-ee28-920b52a12964"
      },
      "source": [
        "import json\n",
        "question_list = [\n",
        "\"What is something that went well in your day today?\", \n",
        "\"What is something you can do today to bring yourself joy?\", \n",
        "\"What are you grateful for today?\", \n",
        "\"What is something beautiful you saw today? \", \n",
        "\"What is something you can do today to bring yourself joy?\", \n",
        "\"What made you smile today? \"]\n",
        "\n",
        "with open('test.json', 'w') as test:\n",
        "  json.dump(question_list, test)\n",
        "\n",
        "with open('test.json', 'r') as rtest:\n",
        "  q_list = json.load(rtest)\n",
        "  print(type(q_list), q_list)\n",
        "\n",
        "####It Works!!! :)\n",
        "### and the file saves in the google colab which then can be reuploaded to github."
      ],
      "execution_count": 5,
      "outputs": [
        {
          "output_type": "stream",
          "text": [
            "<class 'list'> ['What is something that went well in your day today?', 'What is something you can do today to bring yourself joy?', 'What are you grateful for today?', 'What is something beautiful you saw today? ', 'What is something you can do today to bring yourself joy?', 'What made you smile today? ']\n"
          ],
          "name": "stdout"
        }
      ]
    },
    {
      "cell_type": "code",
      "metadata": {
        "id": "sRrSG3rsjnkt",
        "colab_type": "code",
        "colab": {}
      },
      "source": [
        ""
      ],
      "execution_count": 0,
      "outputs": []
    }
  ]
}
