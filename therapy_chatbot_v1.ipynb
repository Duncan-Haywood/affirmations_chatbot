{
  "nbformat": 4,
  "nbformat_minor": 0,
  "metadata": {
    "colab": {
      "name": "therapy_chatbot_v1.ipynb",
      "provenance": [],
      "collapsed_sections": [],
      "authorship_tag": "ABX9TyO1nPB+mqkhyiMMYYov0M/G",
      "include_colab_link": true
    },
    "kernelspec": {
      "name": "python3",
      "display_name": "Python 3"
    }
  },
  "cells": [
    {
      "cell_type": "markdown",
      "metadata": {
        "id": "view-in-github",
        "colab_type": "text"
      },
      "source": [
        "<a href=\"https://colab.research.google.com/github/Duncan-Haywood/therapy_chatbot/blob/master/therapy_chatbot_v1.ipynb\" target=\"_parent\"><img src=\"https://colab.research.google.com/assets/colab-badge.svg\" alt=\"Open In Colab\"/></a>"
      ]
    },
    {
      "cell_type": "code",
      "metadata": {
        "id": "mSuBB-uFiVnV",
        "colab_type": "code",
        "colab": {}
      },
      "source": [
        "## Module imports\n",
        "import random\n",
        "# import json\n",
        "\n",
        "question_list = [\n",
        "  \"What is something that went well in your day today?\", \n",
        "  \"What is something you can do today to bring yourself joy?\", \n",
        "  \"What are you grateful for today?\", \n",
        "  \"What is something beautiful you saw today? \", \n",
        "  \"What is something you can do today to bring yourself joy?\", \n",
        "  \"What made you smile today? \", \n",
        "  \"How can you give love to your inner child today?\", \n",
        "  \"In your day-to-day activities what is one activity during which you can \\n\\\n",
        "  practice smiling?\", \n",
        "  \"What act of kindness can you give to someone right now?\", \n",
        "  \"If your belly were a person, what would it say to you right now? \", \n",
        "  \"If you had unlimited resources and time what is something big you \\n\\\n",
        "  could do for someone? You can be creative here.\"]                  \n",
        "\n",
        "\n",
        "\n",
        "\n",
        "## Introduce the program to the user\n",
        "def intro():\n",
        "  print(\"If there are any questions you would not like to answer, \\n\\\n",
        "        please write \\\"pass\\\" and it will move to the next question.\")\n",
        "\n",
        "\n",
        "## prompts a question and  \n",
        "## saves (appends) the question and the answer to the answers file\n",
        "def add_answer(question):\n",
        "  answer = input(question)\n",
        "\t# with open('answers.json', 'a') as answers:\n",
        "  #   json.dump(answers, [question, answer])\n",
        "  return answer\n",
        "\n",
        "\n",
        "\n",
        "\n",
        "##\n",
        "def run_main_question(question_list):\n",
        "  i = random.randint(0, len(question_list))\n",
        "  question = question_list[i]\n",
        "  add_answer(question)\n",
        "\n",
        "\n",
        "\n",
        "# runs the file, giving instructions, deciding which list to choose, \n",
        "# asking question, retrieving followup question, asking follow up question, \n",
        "# and storing these together\n",
        "def run():\n",
        "  intro()\n",
        "  while True:\n",
        "    question = run_main_question(question_list)\n",
        "\n",
        "\n",
        "\n",
        "\n",
        "\n",
        "\n",
        "run()"
      ],
      "execution_count": 0,
      "outputs": []
    },
    {
      "cell_type": "code",
      "metadata": {
        "id": "uXlJf2y7uNfx",
        "colab_type": "code",
        "colab": {}
      },
      "source": [
        ""
      ],
      "execution_count": 0,
      "outputs": []
    },
    {
      "cell_type": "code",
      "metadata": {
        "id": "tKUl4m_yZyhe",
        "colab_type": "code",
        "colab": {}
      },
      "source": [
        ""
      ],
      "execution_count": 0,
      "outputs": []
    }
  ]
}