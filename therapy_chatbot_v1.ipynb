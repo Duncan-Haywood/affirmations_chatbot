{
  "nbformat": 4,
  "nbformat_minor": 0,
  "metadata": {
    "colab": {
      "name": "therapy_chatbot_v1.ipynb",
      "provenance": [],
      "collapsed_sections": [],
      "authorship_tag": "ABX9TyN81DtV5hEXx8a9BV7fvKkm",
      "include_colab_link": true
    },
    "kernelspec": {
      "name": "python3",
      "display_name": "Python 3"
    }
  },
  "cells": [
    {
      "cell_type": "markdown",
      "metadata": {
        "id": "view-in-github",
        "colab_type": "text"
      },
      "source": [
        "<a href=\"https://colab.research.google.com/github/Duncan-Haywood/therapy_chatbot/blob/master/therapy_chatbot_v1.ipynb\" target=\"_parent\"><img src=\"https://colab.research.google.com/assets/colab-badge.svg\" alt=\"Open In Colab\"/></a>"
      ]
    },
    {
      "cell_type": "code",
      "metadata": {
        "id": "mSuBB-uFiVnV",
        "colab_type": "code",
        "colab": {}
      },
      "source": [
        "## To use click the play button to the left of this box and scroll to the bottom :)\n",
        "## Module imports\n",
        "import random\n",
        "# import json\n",
        "\n",
        "question_list = [\n",
        "\"What is something that went well in your day today?\", \n",
        "\"What is something you can do today to bring yourself joy?\", \n",
        "\"What are you grateful for today?\", \n",
        "\"What is something beautiful you saw today? \", \n",
        "\"What is something you can do today to bring yourself joy?\", \n",
        "\"What made you smile today? \", \n",
        "\"How can you give love to your inner child today?\", \n",
        "\"In your day-to-day activities what is one activity during which you can practice smiling?\", \n",
        "\"What act of kindness can you give to someone right now?\", \n",
        "\"If your belly were a person, what would it say to you right now? \", \n",
        "\"If you had unlimited resources and time what is something big you can do for someone? You can be creative here.\",\n",
        "\"What would make today worthwhile?\",\n",
        "\"What is your daily affirmation today\",\n",
        "\"What is is something you did today that you can improve upon tomorrow?\",\n",
        "\"What is a big career impact you would like to have on the world?\",\n",
        "\"What is a spiritual goal of yours?\",\n",
        "\"For whom can you do an act of service today?\",\n",
        "\"What is a dream act of service for you to give somebody?\",\n",
        "\"What piece of advice would you give yourself?\",\n",
        "\"What words would you like to live by?\",\n",
        "\"When you are in pain, what is the kindest thing you can do for yourself?\",\n",
        "\"What would you do if you loved yourself unconditionally?\",\n",
        "\"What is enough for you?\",\n",
        "\"If your belly is a person, what does it say?\",\n",
        "\"What are the questions to which you urgently need answers?\",\n",
        "\"What can you learn about to help you live a more fulfilling life?\",\n",
        "\"What words do you need to hear?\",\n",
        "\"What don't you want to write about?\"\n",
        "\"Who are you now?\",\n",
        "\"What experiences would have the most positive impact on your life?\",\n",
        "\"Who do you spend the most time with? What is their impact on you?\",\n",
        "\"Who do you admire? What do you admire in them?\",\n",
        "\"What is one of the most painful experiences of your life? What have you learned from this experience?\",\n",
        "\"What would you do if you didn't need to consider money or the opinions of others?\",\n",
        "\"What do you do that brings you suffering? How can you improve this?\",\n",
        "\"How do you spend your time? How do you spend your money?\",\n",
        "\"What is your ideal budger using percentages? ie. 10% dance, 10% dining, ...\",\n",
        "\"What is a book you wish someone would write?\",\n",
        "\"Define the following: Success. Wisdom. Love. Faith. Truth. Courage. Joy. Happiness.\"\n",
        "\"Who would you like to be? What would you like to do? How would you like to feel in these roles?\",\n",
        "\"Imagine the life you wish to live. How does this feel? What are you doing?\",\n",
        "\"What can you do better tomorrow if you live today again exactly?\",\n",
        "\"If your throat is a person, what does it say?\",\n",
        "\"What feels important to you right now?\",\n",
        "\"How can you give love to the child that you are?\",\n",
        "\"What are your intentions for the rest of the day?\",\n",
        "\"Who is your highest self?\",\n",
        "\"What act of kindness have you recently given to another person?\",\n",
        "\"What act of kindness have you recently given to yourself?\",\n",
        "\"What would the rules be if you created the rules for humanity?\",\n",
        "\"Who is a role model of yours? What qualities do you admire in them?\",\n",
        "\"What are you grateful for?\",\n",
        "\"What are you looking forward to?\",\n",
        "\"What made you smile today?\", \n",
        "\"What made you laugh today?\",\n",
        "\"What made today a good day?\",\n",
        "\"What made today awesome?\",\n",
        "\"What was the best thing that happened to you today?\",\n",
        "\"What's something kind someone did for you today?\",\n",
        "\"What made today special?\"\n",
        "]\n",
        "\n",
        "\n",
        "\n",
        "## Introduce the program to the user\n",
        "def intro():\n",
        "  print(\"If there are any questions you would not like to answer, \\n\\\n",
        "        please write \\\"pass\\\" and it will move to the next question.\")\n",
        "\n",
        "\n",
        "## prompts a question and  \n",
        "## saves (appends) the question and the answer to the answers file\n",
        "def add_answer(question):\n",
        "  answer = input(question)\n",
        "\t# with open('answers.json', 'a') as answers:\n",
        "  #   json.dump(answers, [question, answer])\n",
        "  return answer\n",
        "\n",
        "\n",
        "\n",
        "\n",
        "##\n",
        "def run_main_question(question_list):\n",
        "  i = random.randint(0, len(question_list))\n",
        "  question = question_list[i]\n",
        "  add_answer(question)\n",
        "\n",
        "\n",
        "\n",
        "# runs the file, giving instructions, deciding which list to choose, \n",
        "# asking question, retrieving followup question, asking follow up question, \n",
        "# and storing these together\n",
        "def run():\n",
        "  intro()\n",
        "  while True:\n",
        "    question = run_main_question(question_list)\n",
        "\n",
        "\n",
        "\n",
        "\n",
        "\n",
        "\n",
        "run()"
      ],
      "execution_count": 0,
      "outputs": []
    },
    {
      "cell_type": "code",
      "metadata": {
        "id": "uXlJf2y7uNfx",
        "colab_type": "code",
        "colab": {}
      },
      "source": [
        ""
      ],
      "execution_count": 0,
      "outputs": []
    },
    {
      "cell_type": "code",
      "metadata": {
        "id": "tKUl4m_yZyhe",
        "colab_type": "code",
        "colab": {}
      },
      "source": [
        ""
      ],
      "execution_count": 0,
      "outputs": []
    }
  ]
}